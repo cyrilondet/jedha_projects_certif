{
 "cells": [
  {
   "cell_type": "code",
   "execution_count": null,
   "metadata": {},
   "outputs": [],
   "source": [
    "# Load the file onto the PySpark DataFrame steams_df\n",
    "\n",
    "filepath = \"s3://full-stack-bigdata-datasets/Big_Data/Project_Steam/steam_game_output.json\"\n",
    "\n",
    "steams_df = (spark.read.format('json')\\\n",
    "             .option('header', 'true')\\\n",
    "              .option('interSchema', 'true')\\\n",
    "                .load(filepath))\n",
    "\n",
    "steams_df.show(5)"
   ]
  }
 ],
 "metadata": {
  "language_info": {
   "name": "python"
  }
 },
 "nbformat": 4,
 "nbformat_minor": 2
}
